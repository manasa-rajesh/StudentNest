{
 "cells": [
  {
   "cell_type": "code",
   "execution_count": 52,
   "id": "d675333f",
   "metadata": {},
   "outputs": [],
   "source": [
    "import requests\n",
    "from bs4 import BeautifulSoup\n",
    "import regex as re"
   ]
  },
  {
   "cell_type": "code",
   "execution_count": 2,
   "id": "dda72830",
   "metadata": {},
   "outputs": [],
   "source": [
    "links = []\n",
    "for page in range(1,10):\n",
    "    url = f\"https://dps.usc.edu/category/crime-alerts/page/{page}/\"\n",
    "    response = requests.get(url)\n",
    "    soup = BeautifulSoup(response.text, \"lxml\")\n",
    "    all_articles = soup.find_all('article')\n",
    "    for article in all_articles:\n",
    "        for atag in article.find_all('a',class_='read-more'):\n",
    "            links.append(atag['href'])"
   ]
  },
  {
   "cell_type": "code",
   "execution_count": 61,
   "id": "e10bbbd6",
   "metadata": {},
   "outputs": [],
   "source": [
    "content = []\n",
    "for link in links:\n",
    "    response = requests.get(link)\n",
    "    soup = BeautifulSoup(response.content, \"lxml\")\n",
    "    #text = soup.find(['strong','b'],string=['Location:','LOCATION:','LOCATION','Location','Location: '])\n",
    "    #text = soup.find('p',string=re.compile('\\bLocation:\\s+\\K\\S+'))\n",
    "    text = soup.find(['strong','b'],string=re.compile(r'Location',re.IGNORECASE))\n",
    "    if text == None:\n",
    "        text = soup.find('p',string=re.compile(r'Location',re.IGNORECASE))\n",
    "        if text == None:\n",
    "            continue\n",
    "        content.append(text)\n",
    "    content.append(text.next_sibling)"
   ]
  },
  {
   "cell_type": "code",
   "execution_count": 62,
   "id": "0086291c",
   "metadata": {},
   "outputs": [
    {
     "data": {
      "text/plain": [
       "79"
      ]
     },
     "execution_count": 62,
     "metadata": {},
     "output_type": "execute_result"
    }
   ],
   "source": [
    "len(content)"
   ]
  },
  {
   "cell_type": "code",
   "execution_count": 63,
   "id": "07e892a8",
   "metadata": {},
   "outputs": [
    {
     "data": {
      "text/plain": [
       "[' Off-Campus, at the Taco Bell parking lot on Vermont Avenue and 36th Street',\n",
       " '\\xa0Off-Campus, the 1200 block of W. 30th Street',\n",
       " ' 668 W. 28th Street',\n",
       " ' Off campus on the sidewalk in front of the Domino’s Pizza at 2803 S. Figueroa Street',\n",
       " ' Off-Campus, at the Metro train platform on Jefferson Boulevard and Flower Street',\n",
       " ' Off-Campus, at the Bank of America located at the southwest corner of 27th Street and Figueroa Street',\n",
       " ': Off-Campus, at the Metro train platform on Exposition Boulevard',\n",
       " ': Off-campus, at the southwest corner of Exposition Boulevard and Figueroa Street',\n",
       " ': Off-campus at 3762 S. Flower St.',\n",
       " ': Off-campus, at the southeast corner of Jefferson Boulevard and Figueroa Street and the northeast corner of Figueroa Street and Exposition Boulevard',\n",
       " ': Off-campus, on the westside of Figueroa Street, north of 31st Street',\n",
       " ': Off-campus at the parking lot adjacent to 2831 University Ave.',\n",
       " ': Off campus on the west side of Vermont Avenue at 37th Drive',\n",
       " ': Off campus in the Smart and Final parking lot at 3607 S. Vermont Avenue',\n",
       " ': Off-campus on the westside of Orchard Avenue, south of Adams Boulevard',\n",
       " ': Southeast corner of Exposition Boulevard and Figueroa Street',\n",
       " ': Off-campus at 1130 W. 36th Street',\n",
       " ': Off campus in the area of 32nd Street and University Avenue. Similar incidents have occurred at 30th Street and Figueroa Street, 32nd Street and Hoover Street, and the west alley of Figueroa Street north of Jefferson Boulevard.',\n",
       " ': Off campus at 1186 W. 27th Street',\n",
       " ': Off campus at 37th Place and Raymond Avenue',\n",
       " ': Off campus in front of 3038 S. Royal Street',\n",
       " ': West side of Figueroa Street at 34th Street',\n",
       " '628 30',\n",
       " 'Off campus in the 1200 block of West 27',\n",
       " 'Off campus in Jesse Brewer Park at Exposition Boulevard and Vermont Avenue',\n",
       " '800 block of Exposition Boulevard.',\n",
       " '1200 block of W. 30',\n",
       " 'Off campus in the 700 block of W. 27',\n",
       " 'Off campus at 710 W. 27',\n",
       " 'Off campus in the area of 39',\n",
       " 'Off campus at the southeast corner of 27',\n",
       " 'Off-campus in the 1200 block of W. 35',\n",
       " 'Off-campus on St. James Place near West Adams Boulevard.',\n",
       " 'Off campus at 2414 Vermont Ave (rear parking lot of La Barca’s Restaurant)',\n",
       " 'Off-campus on Hoover Street at 30',\n",
       " 'Off-campus on Ellendale Place at Adams Boulevard and the 3700 block of Figueroa Street.',\n",
       " 'Off-campus in the 1100 block of 36',\n",
       " 'Off-campus on Jefferson Boulevard at Orchard Avenue',\n",
       " 'Off-campus on the 110 Freeway overpass at 30',\n",
       " 'Off campus at the northwest corner of 36th Place and Raymond Avenue.',\n",
       " 'Off campus at 844 W. 32',\n",
       " ': Off campus at Amin’s Oil station at 2603 S. Normandie Ave.',\n",
       " 'Off campus at Amin’s Oil station at 2603 S. Normandie Ave.',\n",
       " 'Off-campus at Exposition Boulevard and Vermont Avenue on the East Metro platform.',\n",
       " 'Off-campus in the Shrine Auditorium parking structure at 3208 Royal Street.',\n",
       " 'Off campus at Jefferson Boulevard and Walton Avenue',\n",
       " 'Off campus in the 1100 block W. 29',\n",
       " 'Off-campus in the 1100 block of Exposition Boulevard.',\n",
       " <p>Location: Off campus in the 1100 block of West 30th Street.</p>,\n",
       " '\\n',\n",
       " ' Off campus in the 2600 block of Ellendale Place.',\n",
       " ': Off-campus in the 2300 block of Portland Avenue.',\n",
       " 'Off campus at the Expo/Vermont light rail station',\n",
       " 'Off campus at the northeast corner of Normandie Avenue and 35th Place.',\n",
       " '1200 block of 30th Street (off-campus)',\n",
       " 'Off campus at the southwest corner of Vermont Avenue and 30',\n",
       " 'Hoover Street at 23',\n",
       " 'Texts to victims’ mobile numbers.',\n",
       " 'Ellendale Avenue at 29',\n",
       " '900 block of 28',\n",
       " 'University Gateway Apartments, 3335 S. Figueroa St. (off-campus)',\n",
       " 'Bus stop at the southwest corner of Adams Avenue and Magnolia Street (off-campus)',\n",
       " '600 block of West 34',\n",
       " '2600 Block of South Orchard Avenue (off-campus)',\n",
       " <p>LOCATION: Homeless encampment in the 3500 block of South Hope Street (off-campus)</p>,\n",
       " '\\n',\n",
       " '1100 block of West 30',\n",
       " 'West alley of Figueroa Street north of Jefferson Boulevard',\n",
       " '600 block of W 30',\n",
       " '700 block of W 27',\n",
       " '\\xa024',\n",
       " 'S/E corner 29',\n",
       " '2300 Block of Scarff Street (off campus)',\n",
       " ': Figueroa Street north of 29',\n",
       " 'The 1200 Block of West 37',\n",
       " ': 2670 Ellendale Place (off campus)',\n",
       " ': Adams and Flower (off campus)',\n",
       " ': North Alley of 3131 McClintock Ave (off campus)',\n",
       " '\\xa037']"
      ]
     },
     "execution_count": 63,
     "metadata": {},
     "output_type": "execute_result"
    }
   ],
   "source": [
    "content"
   ]
  },
  {
   "cell_type": "code",
   "execution_count": null,
   "id": "f7fb0fcf",
   "metadata": {},
   "outputs": [],
   "source": []
  }
 ],
 "metadata": {
  "kernelspec": {
   "display_name": "Python 3 (ipykernel)",
   "language": "python",
   "name": "python3"
  },
  "language_info": {
   "codemirror_mode": {
    "name": "ipython",
    "version": 3
   },
   "file_extension": ".py",
   "mimetype": "text/x-python",
   "name": "python",
   "nbconvert_exporter": "python",
   "pygments_lexer": "ipython3",
   "version": "3.9.12"
  }
 },
 "nbformat": 4,
 "nbformat_minor": 5
}
